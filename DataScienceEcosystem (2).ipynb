{
  "metadata": {
    "kernelspec": {
      "name": "python",
      "display_name": "Python (Pyodide)",
      "language": "python"
    },
    "language_info": {
      "codemirror_mode": {
        "name": "python",
        "version": 3
      },
      "file_extension": ".py",
      "mimetype": "text/x-python",
      "name": "python",
      "nbconvert_exporter": "python",
      "pygments_lexer": "ipython3",
      "version": "3.8"
    }
  },
  "nbformat_minor": 4,
  "nbformat": 4,
  "cells": [
    {
      "cell_type": "markdown",
      "source": "# Data Science Tools and Ecosystem",
      "metadata": {}
    },
    {
      "cell_type": "markdown",
      "source": "## Author\nRavi Katta",
      "metadata": {}
    },
    {
      "cell_type": "markdown",
      "source": "In this notebook, Data Science Tools and Ecosystem are summarized.",
      "metadata": {}
    },
    {
      "cell_type": "markdown",
      "source": "## Objectives:",
      "metadata": {}
    },
    {
      "cell_type": "markdown",
      "source": "• Finding out Data Science Languages\n\n• Finding out Data Science Libraries\n\n• Finding out Data Science Tools\n\n• Finding out Arithmetic Expressions\n\n• Making minutes to hours",
      "metadata": {}
    },
    {
      "cell_type": "markdown",
      "source": "## Some of the popular languages that Data Scientists use are:",
      "metadata": {}
    },
    {
      "cell_type": "markdown",
      "source": "1. Python\n2. R\n3. Julia",
      "metadata": {}
    },
    {
      "cell_type": "markdown",
      "source": "## Some of the commonly used libraries used by Data Scientists include:",
      "metadata": {}
    },
    {
      "cell_type": "markdown",
      "source": "1. NumPy\n2. Pandas\n3. Matplotlib\n4. Keras",
      "metadata": {}
    },
    {
      "cell_type": "markdown",
      "source": "|Data Science Tools|\n|------------------|\n|Jupyter Notebook  |\n|RStudio           |\n|Apache Zeppelin   |",
      "metadata": {}
    },
    {
      "cell_type": "markdown",
      "source": "## Below are a few examples of evaluating arithmetic expressions in Python.",
      "metadata": {}
    },
    {
      "cell_type": "code",
      "source": "#This a simple arithmetic expression to multiply then add integers\n#The Question is (3*4)+5\nnum1 = 3\nnum2 = 4\nnum3 = 5\n\nresult = (num1*num2)+num3\nprint('result',result)",
      "metadata": {
        "trusted": true
      },
      "outputs": [
        {
          "name": "stdout",
          "text": "result 17\n",
          "output_type": "stream"
        }
      ],
      "execution_count": 1
    },
    {
      "cell_type": "code",
      "source": "#This will convert 200 minutes to hours by diving by 60\nnum1 = 200\nnum2 = 60\nHours = (200/60)\nprint('The hours of 200 minutes is',Hours)",
      "metadata": {
        "trusted": true
      },
      "outputs": [
        {
          "name": "stdout",
          "text": "The hours of 200 minutes is 3.3333333333333335\n",
          "output_type": "stream"
        }
      ],
      "execution_count": 7
    }
  ]
}